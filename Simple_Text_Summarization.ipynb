{
 "cells": [
  {
   "cell_type": "markdown",
   "metadata": {},
   "source": [
    "This is text summarization using Gensim Library"
   ]
  },
  {
   "cell_type": "code",
   "execution_count": 1,
   "metadata": {},
   "outputs": [],
   "source": [
    "#import library\n",
    "\n",
    "from gensim.summarization.summarizer import summarize\n",
    "import pandas as pd"
   ]
  },
  {
   "cell_type": "code",
   "execution_count": 2,
   "metadata": {},
   "outputs": [
    {
     "data": {
      "text/html": [
       "<div>\n",
       "<style scoped>\n",
       "    .dataframe tbody tr th:only-of-type {\n",
       "        vertical-align: middle;\n",
       "    }\n",
       "\n",
       "    .dataframe tbody tr th {\n",
       "        vertical-align: top;\n",
       "    }\n",
       "\n",
       "    .dataframe thead th {\n",
       "        text-align: right;\n",
       "    }\n",
       "</style>\n",
       "<table border=\"1\" class=\"dataframe\">\n",
       "  <thead>\n",
       "    <tr style=\"text-align: right;\">\n",
       "      <th></th>\n",
       "      <th>article_id</th>\n",
       "      <th>article_text</th>\n",
       "    </tr>\n",
       "  </thead>\n",
       "  <tbody>\n",
       "    <tr>\n",
       "      <th>0</th>\n",
       "      <td>0</td>\n",
       "      <td>Love love love this dress. We went on a trip t...</td>\n",
       "    </tr>\n",
       "    <tr>\n",
       "      <th>1</th>\n",
       "      <td>1</td>\n",
       "      <td>I call this my 'Garden Dress' because the ligh...</td>\n",
       "    </tr>\n",
       "    <tr>\n",
       "      <th>2</th>\n",
       "      <td>2</td>\n",
       "      <td>I love this dress. I bought it in the blue gre...</td>\n",
       "    </tr>\n",
       "    <tr>\n",
       "      <th>3</th>\n",
       "      <td>3</td>\n",
       "      <td>I bought this dress to wear to curch on Easter...</td>\n",
       "    </tr>\n",
       "    <tr>\n",
       "      <th>4</th>\n",
       "      <td>4</td>\n",
       "      <td>Absolutely beautiful. It is very long. I am 5'...</td>\n",
       "    </tr>\n",
       "  </tbody>\n",
       "</table>\n",
       "</div>"
      ],
      "text/plain": [
       "   article_id                                       article_text\n",
       "0           0  Love love love this dress. We went on a trip t...\n",
       "1           1  I call this my 'Garden Dress' because the ligh...\n",
       "2           2  I love this dress. I bought it in the blue gre...\n",
       "3           3  I bought this dress to wear to curch on Easter...\n",
       "4           4  Absolutely beautiful. It is very long. I am 5'..."
      ]
     },
     "execution_count": 2,
     "metadata": {},
     "output_type": "execute_result"
    }
   ],
   "source": [
    "#import data\n",
    "\n",
    "data = pd.read_csv(\"Dress.csv\", delimiter=';')\n",
    "data"
   ]
  },
  {
   "cell_type": "code",
   "execution_count": 3,
   "metadata": {},
   "outputs": [
    {
     "data": {
      "text/plain": [
       "'Love love love this dress. We went on a trip to Venice and it was the perfect dress. Everyone commented on it, and a few people with a camera kept following us everywhere we went to Piazza San Marco and took pictures of me. It is the perfect summer dress. Mine was showing no cleavage. I am 18 weeks pregnant so I ordered a Large, but probably a Medium, even a Small would have worked, but I kept this one so I can grow into it. Most likely I will like in it this summer.'"
      ]
     },
     "execution_count": 3,
     "metadata": {},
     "output_type": "execute_result"
    }
   ],
   "source": [
    "#load data of column-0\n",
    "\n",
    "data['article_text'][0]"
   ]
  },
  {
   "cell_type": "code",
   "execution_count": 4,
   "metadata": {},
   "outputs": [
    {
     "data": {
      "text/plain": [
       "\"I call this my 'Garden Dress' because the light green print looks like a pretty garden. This is one of those dresses that is prettier in person. The colour and print are lovely and perfect for summer. The flowers on the light green dress are so vibrant. The fit is great as the elastic waist makes me look thinner and the bottom part has volume and flow. I felt confident and pretty after wearing this and received compliments for the dress. The material is light and so soft. There are buttons from top to bottom that I had to close individually but once it was done, I could easily slip the dress over my head. As per fit, I ordered a small and it was true to fit. I am usually a size small in most brands. I am 5'3 and the length of this dress is perfect for me even with flat footwear. So, no alterations required. It is a good choice for a summer party or attending a wedding.\""
      ]
     },
     "execution_count": 4,
     "metadata": {},
     "output_type": "execute_result"
    }
   ],
   "source": [
    "#load data of column-1\n",
    "\n",
    "data['article_text'][1]"
   ]
  },
  {
   "cell_type": "code",
   "execution_count": 6,
   "metadata": {},
   "outputs": [
    {
     "name": "stdout",
     "output_type": "stream",
     "text": [
      "\n",
      "ARTICLE -  1\n",
      "It is the perfect summer dress.\n",
      "\n",
      "ARTICLE -  2\n",
      "I call this my 'Garden Dress' because the light green print looks like a pretty garden.\n",
      "The colour and print are lovely and perfect for summer.\n",
      "\n",
      "ARTICLE -  3\n",
      "I bought it in the blue green colour first and I loved it so much.\n",
      "\n",
      "ARTICLE -  4\n",
      "I bought this dress to wear to curch on Easter Sunday and received so many compliments.\n",
      "\n",
      "ARTICLE -  5\n",
      "I love that it has many buttons because it makes the dress look even sexier or flattering but the buttons are not all that functional due to their size.\n",
      "There is no need to because the dress slips over your head without using buttons.\n"
     ]
    }
   ],
   "source": [
    "#summarize of each column\n",
    "\n",
    "for a in range(len(data)):\n",
    "    print(\"\\nARTICLE - \", a+1)\n",
    "    x = data['article_text'][a]\n",
    "    print (summarize(x))"
   ]
  },
  {
   "cell_type": "code",
   "execution_count": null,
   "metadata": {},
   "outputs": [],
   "source": []
  }
 ],
 "metadata": {
  "kernelspec": {
   "display_name": "Python 3",
   "language": "python",
   "name": "python3"
  },
  "language_info": {
   "codemirror_mode": {
    "name": "ipython",
    "version": 3
   },
   "file_extension": ".py",
   "mimetype": "text/x-python",
   "name": "python",
   "nbconvert_exporter": "python",
   "pygments_lexer": "ipython3",
   "version": "3.7.3"
  }
 },
 "nbformat": 4,
 "nbformat_minor": 2
}
